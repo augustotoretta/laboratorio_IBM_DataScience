{
  "nbformat": 4,
  "nbformat_minor": 0,
  "metadata": {
    "colab": {
      "provenance": []
    },
    "kernelspec": {
      "name": "python3",
      "display_name": "Python 3"
    },
    "language_info": {
      "name": "python"
    }
  },
  "cells": [
    {
      "cell_type": "markdown",
      "source": [
        "#Data Science Tools and Ecosystem"
      ],
      "metadata": {
        "id": "g9yUuV8Cncgx"
      }
    },
    {
      "cell_type": "markdown",
      "source": [
        "In this notebook, Data Science Tools and Ecosystem are summarized."
      ],
      "metadata": {
        "id": "K2sujOORn0C9"
      }
    },
    {
      "cell_type": "markdown",
      "source": [
        "Some of the popular languages that Data Scientists use are:\n",
        "- Python\n",
        "- R\n",
        "- SQL\n"
      ],
      "metadata": {
        "id": "0UhNFFy_oEC8"
      }
    },
    {
      "cell_type": "markdown",
      "source": [
        "Some of the commonly used libraries used by Data Scientists include:\n",
        "- Matplotlib\n",
        "- Pandas\n",
        "- NumPy"
      ],
      "metadata": {
        "id": "43E5DszDoUsi"
      }
    },
    {
      "cell_type": "markdown",
      "source": [
        "|Data Science Tools|\n",
        "|-----|\n",
        "|Jupyter Notebooks|\n",
        "|RStudio|\n",
        "|Apache Zeppelin|\n"
      ],
      "metadata": {
        "id": "W-SgvMlkrwje"
      }
    },
    {
      "cell_type": "markdown",
      "source": [
        "###Below are a few examples of evaluating arithmetic expressions in Python\n"
      ],
      "metadata": {
        "id": "-GpeqgV4srK3"
      }
    },
    {
      "cell_type": "code",
      "execution_count": 1,
      "metadata": {
        "colab": {
          "base_uri": "https://localhost:8080/"
        },
        "id": "wBBuxl9RnHy8",
        "outputId": "45619928-17f6-4d4c-9a1e-43925e85d3f4"
      },
      "outputs": [
        {
          "output_type": "execute_result",
          "data": {
            "text/plain": [
              "17"
            ]
          },
          "metadata": {},
          "execution_count": 1
        }
      ],
      "source": [
        "#This a simple arithmetic expression to mutiply then add integers\n",
        "(3*4)+5"
      ]
    },
    {
      "cell_type": "code",
      "source": [
        "#This will convert 200 minutes to hours by diving by 60\n",
        "200/60"
      ],
      "metadata": {
        "colab": {
          "base_uri": "https://localhost:8080/"
        },
        "id": "wsWsemTHtMF7",
        "outputId": "093bf0ac-6539-40f9-938a-9740981c1794"
      },
      "execution_count": 3,
      "outputs": [
        {
          "output_type": "execute_result",
          "data": {
            "text/plain": [
              "3.3333333333333335"
            ]
          },
          "metadata": {},
          "execution_count": 3
        }
      ]
    },
    {
      "cell_type": "markdown",
      "source": [
        "Objectives:\n",
        "- Create a Jupyter Notebook\n",
        "- Insert code and markdown cells\n",
        "- List popular languages for Data Science\n",
        "- Share your notebook through GitHub\n",
        "- List commonly used libraries used by Data Scientists"
      ],
      "metadata": {
        "id": "gtJdM9k3tgaq"
      }
    },
    {
      "cell_type": "markdown",
      "source": [
        "##Augusto\n",
        "Author"
      ],
      "metadata": {
        "id": "MZr9YjhtuLtt"
      }
    }
  ]
}